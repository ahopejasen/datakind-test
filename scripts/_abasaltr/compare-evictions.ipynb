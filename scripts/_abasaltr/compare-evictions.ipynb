{
 "cells": [
  {
   "cell_type": "markdown",
   "metadata": {},
   "source": [
    "# Compare evictions in Hillsborough County to NYC using DP02 variables (see census data dictionary)"
   ]
  },
  {
   "cell_type": "code",
   "execution_count": 1,
   "metadata": {},
   "outputs": [],
   "source": [
    "import pandas as pd\n",
    "import numpy as np\n",
    "from pandas_profiling import ProfileReport"
   ]
  },
  {
   "cell_type": "code",
   "execution_count": 32,
   "metadata": {},
   "outputs": [
    {
     "data": {
      "text/html": [
       "<div>\n",
       "<style scoped>\n",
       "    .dataframe tbody tr th:only-of-type {\n",
       "        vertical-align: middle;\n",
       "    }\n",
       "\n",
       "    .dataframe tbody tr th {\n",
       "        vertical-align: top;\n",
       "    }\n",
       "\n",
       "    .dataframe thead th {\n",
       "        text-align: right;\n",
       "    }\n",
       "</style>\n",
       "<table border=\"1\" class=\"dataframe\">\n",
       "  <thead>\n",
       "    <tr style=\"text-align: right;\">\n",
       "      <th></th>\n",
       "      <th>GEOID</th>\n",
       "      <th>total-households</th>\n",
       "      <th>median-gross-rent</th>\n",
       "      <th>avg-eviction-rate</th>\n",
       "      <th>ratio-to-mean-eviction-rate</th>\n",
       "      <th>county</th>\n",
       "    </tr>\n",
       "  </thead>\n",
       "  <tbody>\n",
       "    <tr>\n",
       "      <th>0</th>\n",
       "      <td>12057010103</td>\n",
       "      <td>1454</td>\n",
       "      <td>831</td>\n",
       "      <td>2.023771</td>\n",
       "      <td>0.855968</td>\n",
       "      <td>Hillsborough County</td>\n",
       "    </tr>\n",
       "    <tr>\n",
       "      <th>1</th>\n",
       "      <td>12057011006</td>\n",
       "      <td>1861</td>\n",
       "      <td>1349</td>\n",
       "      <td>2.508197</td>\n",
       "      <td>1.060859</td>\n",
       "      <td>Hillsborough County</td>\n",
       "    </tr>\n",
       "    <tr>\n",
       "      <th>2</th>\n",
       "      <td>12057011108</td>\n",
       "      <td>681</td>\n",
       "      <td>497</td>\n",
       "      <td>3.902439</td>\n",
       "      <td>1.650563</td>\n",
       "      <td>Hillsborough County</td>\n",
       "    </tr>\n",
       "    <tr>\n",
       "      <th>3</th>\n",
       "      <td>12057011203</td>\n",
       "      <td>1403</td>\n",
       "      <td>967</td>\n",
       "      <td>1.524998</td>\n",
       "      <td>0.645008</td>\n",
       "      <td>Hillsborough County</td>\n",
       "    </tr>\n",
       "    <tr>\n",
       "      <th>4</th>\n",
       "      <td>12057011206</td>\n",
       "      <td>1263</td>\n",
       "      <td>750</td>\n",
       "      <td>2.469276</td>\n",
       "      <td>1.044397</td>\n",
       "      <td>Hillsborough County</td>\n",
       "    </tr>\n",
       "  </tbody>\n",
       "</table>\n",
       "</div>"
      ],
      "text/plain": [
       "         GEOID  total-households  median-gross-rent  avg-eviction-rate  \\\n",
       "0  12057010103              1454                831           2.023771   \n",
       "1  12057011006              1861               1349           2.508197   \n",
       "2  12057011108               681                497           3.902439   \n",
       "3  12057011203              1403                967           1.524998   \n",
       "4  12057011206              1263                750           2.469276   \n",
       "\n",
       "   ratio-to-mean-eviction-rate               county  \n",
       "0                     0.855968  Hillsborough County  \n",
       "1                     1.060859  Hillsborough County  \n",
       "2                     1.650563  Hillsborough County  \n",
       "3                     0.645008  Hillsborough County  \n",
       "4                     1.044397  Hillsborough County  "
      ]
     },
     "execution_count": 32,
     "metadata": {},
     "output_type": "execute_result"
    }
   ],
   "source": [
    "df_hill = pd.read_csv(\"../../data/processed/hillsborough_fl_processed_2017_to_2019_20210225.csv\")\n",
    "df_hill = df_hill.rename({'census_tract_GEOID': 'GEOID'}, axis=1)\n",
    "\n",
    "#create specific columns from df - load\n",
    "eviction_columns = [\"GEOID\", \"total-households\", \"median-gross-rent\", \"avg-eviction-rate\", \"ratio-to-mean-eviction-rate\", \"county\"]\n",
    "df_hill_trans = df_hill[eviction_columns].copy()\n",
    "\n",
    "df_hill_trans.head()"
   ]
  },
  {
   "cell_type": "code",
   "execution_count": 33,
   "metadata": {},
   "outputs": [
    {
     "data": {
      "text/html": [
       "<div>\n",
       "<style scoped>\n",
       "    .dataframe tbody tr th:only-of-type {\n",
       "        vertical-align: middle;\n",
       "    }\n",
       "\n",
       "    .dataframe tbody tr th {\n",
       "        vertical-align: top;\n",
       "    }\n",
       "\n",
       "    .dataframe thead th {\n",
       "        text-align: right;\n",
       "    }\n",
       "</style>\n",
       "<table border=\"1\" class=\"dataframe\">\n",
       "  <thead>\n",
       "    <tr style=\"text-align: right;\">\n",
       "      <th></th>\n",
       "      <th>GEOID</th>\n",
       "      <th>total-households</th>\n",
       "      <th>median-gross-rent</th>\n",
       "      <th>avg-eviction-rate</th>\n",
       "      <th>ratio-to-mean-eviction-rate</th>\n",
       "      <th>county</th>\n",
       "    </tr>\n",
       "  </thead>\n",
       "  <tbody>\n",
       "    <tr>\n",
       "      <th>0</th>\n",
       "      <td>36085013204</td>\n",
       "      <td>1790</td>\n",
       "      <td>1411</td>\n",
       "      <td>0.710900</td>\n",
       "      <td>0.841753</td>\n",
       "      <td>Staten Island</td>\n",
       "    </tr>\n",
       "    <tr>\n",
       "      <th>1</th>\n",
       "      <td>36085013800</td>\n",
       "      <td>2369</td>\n",
       "      <td>1185</td>\n",
       "      <td>0.453515</td>\n",
       "      <td>0.536992</td>\n",
       "      <td>Staten Island</td>\n",
       "    </tr>\n",
       "    <tr>\n",
       "      <th>2</th>\n",
       "      <td>36085014700</td>\n",
       "      <td>1341</td>\n",
       "      <td>1220</td>\n",
       "      <td>0.829876</td>\n",
       "      <td>0.982628</td>\n",
       "      <td>Staten Island</td>\n",
       "    </tr>\n",
       "    <tr>\n",
       "      <th>3</th>\n",
       "      <td>36085019700</td>\n",
       "      <td>712</td>\n",
       "      <td>1384</td>\n",
       "      <td>1.010101</td>\n",
       "      <td>1.196027</td>\n",
       "      <td>Staten Island</td>\n",
       "    </tr>\n",
       "    <tr>\n",
       "      <th>4</th>\n",
       "      <td>36085020804</td>\n",
       "      <td>1988</td>\n",
       "      <td>1175</td>\n",
       "      <td>1.117318</td>\n",
       "      <td>1.322979</td>\n",
       "      <td>Staten Island</td>\n",
       "    </tr>\n",
       "  </tbody>\n",
       "</table>\n",
       "</div>"
      ],
      "text/plain": [
       "         GEOID  total-households  median-gross-rent  avg-eviction-rate  \\\n",
       "0  36085013204              1790               1411           0.710900   \n",
       "1  36085013800              2369               1185           0.453515   \n",
       "2  36085014700              1341               1220           0.829876   \n",
       "3  36085019700               712               1384           1.010101   \n",
       "4  36085020804              1988               1175           1.117318   \n",
       "\n",
       "   ratio-to-mean-eviction-rate         county  \n",
       "0                     0.841753  Staten Island  \n",
       "1                     0.536992  Staten Island  \n",
       "2                     0.982628  Staten Island  \n",
       "3                     1.196027  Staten Island  \n",
       "4                     1.322979  Staten Island  "
      ]
     },
     "execution_count": 33,
     "metadata": {},
     "output_type": "execute_result"
    }
   ],
   "source": [
    "df_nyc = pd.read_csv(\"../../data/processed/nyc_processed_2017_to_2019_20210225.csv\")\n",
    "df_nyc = df_nyc.rename({'census_tract_GEOID': 'GEOID'}, axis=1)\n",
    "\n",
    "#create specific columns from df - load\n",
    "eviction_columns = [\"GEOID\", \"total-households\", \"median-gross-rent\", \"avg-eviction-rate\", \"ratio-to-mean-eviction-rate\", \"county\"]\n",
    "df_nyc_trans = df_nyc[eviction_columns].copy()\n",
    "\n",
    "df_nyc_trans.head()"
   ]
  },
  {
   "cell_type": "code",
   "execution_count": 34,
   "metadata": {},
   "outputs": [
    {
     "data": {
      "text/html": [
       "<div>\n",
       "<style scoped>\n",
       "    .dataframe tbody tr th:only-of-type {\n",
       "        vertical-align: middle;\n",
       "    }\n",
       "\n",
       "    .dataframe tbody tr th {\n",
       "        vertical-align: top;\n",
       "    }\n",
       "\n",
       "    .dataframe thead th {\n",
       "        text-align: right;\n",
       "    }\n",
       "</style>\n",
       "<table border=\"1\" class=\"dataframe\">\n",
       "  <thead>\n",
       "    <tr style=\"text-align: right;\">\n",
       "      <th></th>\n",
       "      <th>variable</th>\n",
       "      <th>label</th>\n",
       "      <th>concept</th>\n",
       "      <th>predicateType</th>\n",
       "    </tr>\n",
       "  </thead>\n",
       "  <tbody>\n",
       "    <tr>\n",
       "      <th>0</th>\n",
       "      <td>DP02_0001E</td>\n",
       "      <td>Estimate!!HOUSEHOLDS BY TYPE!!Total households</td>\n",
       "      <td>SELECTED SOCIAL CHARACTERISTICS IN THE UNITED ...</td>\n",
       "      <td>int</td>\n",
       "    </tr>\n",
       "    <tr>\n",
       "      <th>1</th>\n",
       "      <td>DP02_0001PE</td>\n",
       "      <td>Percent Estimate!!HOUSEHOLDS BY TYPE!!Total ho...</td>\n",
       "      <td>SELECTED SOCIAL CHARACTERISTICS IN THE UNITED ...</td>\n",
       "      <td>int</td>\n",
       "    </tr>\n",
       "    <tr>\n",
       "      <th>2</th>\n",
       "      <td>DP02_0002E</td>\n",
       "      <td>Estimate!!HOUSEHOLDS BY TYPE!!Total households...</td>\n",
       "      <td>SELECTED SOCIAL CHARACTERISTICS IN THE UNITED ...</td>\n",
       "      <td>int</td>\n",
       "    </tr>\n",
       "    <tr>\n",
       "      <th>3</th>\n",
       "      <td>DP02_0002PE</td>\n",
       "      <td>Percent Estimate!!HOUSEHOLDS BY TYPE!!Total ho...</td>\n",
       "      <td>SELECTED SOCIAL CHARACTERISTICS IN THE UNITED ...</td>\n",
       "      <td>float</td>\n",
       "    </tr>\n",
       "    <tr>\n",
       "      <th>4</th>\n",
       "      <td>DP02_0003E</td>\n",
       "      <td>Estimate!!HOUSEHOLDS BY TYPE!!Total households...</td>\n",
       "      <td>SELECTED SOCIAL CHARACTERISTICS IN THE UNITED ...</td>\n",
       "      <td>int</td>\n",
       "    </tr>\n",
       "  </tbody>\n",
       "</table>\n",
       "</div>"
      ],
      "text/plain": [
       "      variable                                              label  \\\n",
       "0   DP02_0001E     Estimate!!HOUSEHOLDS BY TYPE!!Total households   \n",
       "1  DP02_0001PE  Percent Estimate!!HOUSEHOLDS BY TYPE!!Total ho...   \n",
       "2   DP02_0002E  Estimate!!HOUSEHOLDS BY TYPE!!Total households...   \n",
       "3  DP02_0002PE  Percent Estimate!!HOUSEHOLDS BY TYPE!!Total ho...   \n",
       "4   DP02_0003E  Estimate!!HOUSEHOLDS BY TYPE!!Total households...   \n",
       "\n",
       "                                             concept predicateType  \n",
       "0  SELECTED SOCIAL CHARACTERISTICS IN THE UNITED ...           int  \n",
       "1  SELECTED SOCIAL CHARACTERISTICS IN THE UNITED ...           int  \n",
       "2  SELECTED SOCIAL CHARACTERISTICS IN THE UNITED ...           int  \n",
       "3  SELECTED SOCIAL CHARACTERISTICS IN THE UNITED ...         float  \n",
       "4  SELECTED SOCIAL CHARACTERISTICS IN THE UNITED ...           int  "
      ]
     },
     "execution_count": 34,
     "metadata": {},
     "output_type": "execute_result"
    }
   ],
   "source": [
    "df_dp_dict = pd.read_csv(\"../../data/acs/data_dictionary.csv\")\n",
    "df_dp_dict.head()                    "
   ]
  },
  {
   "cell_type": "code",
   "execution_count": 36,
   "metadata": {},
   "outputs": [
    {
     "data": {
      "text/html": [
       "<div>\n",
       "<style scoped>\n",
       "    .dataframe tbody tr th:only-of-type {\n",
       "        vertical-align: middle;\n",
       "    }\n",
       "\n",
       "    .dataframe tbody tr th {\n",
       "        vertical-align: top;\n",
       "    }\n",
       "\n",
       "    .dataframe thead th {\n",
       "        text-align: right;\n",
       "    }\n",
       "</style>\n",
       "<table border=\"1\" class=\"dataframe\">\n",
       "  <thead>\n",
       "    <tr style=\"text-align: right;\">\n",
       "      <th></th>\n",
       "      <th>GEOID</th>\n",
       "      <th>DP02_0001E</th>\n",
       "      <th>DP02_0001PE</th>\n",
       "      <th>DP02_0002E</th>\n",
       "      <th>DP02_0002PE</th>\n",
       "    </tr>\n",
       "  </thead>\n",
       "  <tbody>\n",
       "    <tr>\n",
       "      <th>0</th>\n",
       "      <td>12057013919</td>\n",
       "      <td>2198</td>\n",
       "      <td>2198</td>\n",
       "      <td>1830</td>\n",
       "      <td>83.3</td>\n",
       "    </tr>\n",
       "    <tr>\n",
       "      <th>1</th>\n",
       "      <td>12057013920</td>\n",
       "      <td>1228</td>\n",
       "      <td>1228</td>\n",
       "      <td>967</td>\n",
       "      <td>78.7</td>\n",
       "    </tr>\n",
       "    <tr>\n",
       "      <th>2</th>\n",
       "      <td>12057013921</td>\n",
       "      <td>1323</td>\n",
       "      <td>1323</td>\n",
       "      <td>1229</td>\n",
       "      <td>92.9</td>\n",
       "    </tr>\n",
       "    <tr>\n",
       "      <th>3</th>\n",
       "      <td>12057001001</td>\n",
       "      <td>1395</td>\n",
       "      <td>1395</td>\n",
       "      <td>1042</td>\n",
       "      <td>74.7</td>\n",
       "    </tr>\n",
       "    <tr>\n",
       "      <th>4</th>\n",
       "      <td>12057005301</td>\n",
       "      <td>2077</td>\n",
       "      <td>2077</td>\n",
       "      <td>507</td>\n",
       "      <td>24.4</td>\n",
       "    </tr>\n",
       "  </tbody>\n",
       "</table>\n",
       "</div>"
      ],
      "text/plain": [
       "         GEOID  DP02_0001E  DP02_0001PE  DP02_0002E  DP02_0002PE\n",
       "0  12057013919        2198         2198        1830         83.3\n",
       "1  12057013920        1228         1228         967         78.7\n",
       "2  12057013921        1323         1323        1229         92.9\n",
       "3  12057001001        1395         1395        1042         74.7\n",
       "4  12057005301        2077         2077         507         24.4"
      ]
     },
     "execution_count": 36,
     "metadata": {},
     "output_type": "execute_result"
    }
   ],
   "source": [
    "df_dp_hill = pd.read_csv(\"../../data/acs/hillsborough_acs5-2018_census.csv\")\n",
    "\n",
    "#create specific columns from df - load\n",
    "dp_columns = [\"GEOID\", \"DP02_0001E\", \"DP02_0001PE\", \"DP02_0002E\", \"DP02_0002PE\"]\n",
    "df_dp_hill_trans = df_dp_hill[dp_columns].copy()\n",
    "\n",
    "df_dp_hill_trans.head()         "
   ]
  },
  {
   "cell_type": "code",
   "execution_count": 38,
   "metadata": {},
   "outputs": [
    {
     "data": {
      "text/html": [
       "<div>\n",
       "<style scoped>\n",
       "    .dataframe tbody tr th:only-of-type {\n",
       "        vertical-align: middle;\n",
       "    }\n",
       "\n",
       "    .dataframe tbody tr th {\n",
       "        vertical-align: top;\n",
       "    }\n",
       "\n",
       "    .dataframe thead th {\n",
       "        text-align: right;\n",
       "    }\n",
       "</style>\n",
       "<table border=\"1\" class=\"dataframe\">\n",
       "  <thead>\n",
       "    <tr style=\"text-align: right;\">\n",
       "      <th></th>\n",
       "      <th>GEOID</th>\n",
       "      <th>DP02_0001E</th>\n",
       "      <th>DP02_0001PE</th>\n",
       "      <th>DP02_0002E</th>\n",
       "      <th>DP02_0002PE</th>\n",
       "    </tr>\n",
       "  </thead>\n",
       "  <tbody>\n",
       "    <tr>\n",
       "      <th>0</th>\n",
       "      <td>36085024401</td>\n",
       "      <td>2098</td>\n",
       "      <td>2098</td>\n",
       "      <td>1580</td>\n",
       "      <td>75.3</td>\n",
       "    </tr>\n",
       "    <tr>\n",
       "      <th>1</th>\n",
       "      <td>36085024402</td>\n",
       "      <td>1686</td>\n",
       "      <td>1686</td>\n",
       "      <td>1185</td>\n",
       "      <td>70.3</td>\n",
       "    </tr>\n",
       "    <tr>\n",
       "      <th>2</th>\n",
       "      <td>36085027705</td>\n",
       "      <td>1916</td>\n",
       "      <td>1916</td>\n",
       "      <td>1602</td>\n",
       "      <td>83.6</td>\n",
       "    </tr>\n",
       "    <tr>\n",
       "      <th>3</th>\n",
       "      <td>36085027706</td>\n",
       "      <td>1101</td>\n",
       "      <td>1101</td>\n",
       "      <td>914</td>\n",
       "      <td>83.0</td>\n",
       "    </tr>\n",
       "    <tr>\n",
       "      <th>4</th>\n",
       "      <td>36085990100</td>\n",
       "      <td>0</td>\n",
       "      <td>0</td>\n",
       "      <td>0</td>\n",
       "      <td>-666666666.0</td>\n",
       "    </tr>\n",
       "  </tbody>\n",
       "</table>\n",
       "</div>"
      ],
      "text/plain": [
       "         GEOID  DP02_0001E  DP02_0001PE  DP02_0002E  DP02_0002PE\n",
       "0  36085024401        2098         2098        1580         75.3\n",
       "1  36085024402        1686         1686        1185         70.3\n",
       "2  36085027705        1916         1916        1602         83.6\n",
       "3  36085027706        1101         1101         914         83.0\n",
       "4  36085990100           0            0           0 -666666666.0"
      ]
     },
     "execution_count": 38,
     "metadata": {},
     "output_type": "execute_result"
    }
   ],
   "source": [
    "df_dp_nyc = pd.read_csv(\"../../data/acs/nyc_acs5-2018_census.csv\")\n",
    "\n",
    "#create specific columns from df - load\n",
    "dp_columns = [\"GEOID\", \"DP02_0001E\", \"DP02_0001PE\", \"DP02_0002E\", \"DP02_0002PE\"]\n",
    "df_dp_nyc_trans = df_dp_nyc[dp_columns].copy()\n",
    "\n",
    "df_dp_nyc_trans.head()         "
   ]
  },
  {
   "cell_type": "code",
   "execution_count": 8,
   "metadata": {},
   "outputs": [],
   "source": [
    "##profile = ProfileReport(df_hill, title=\"Pandas Profiling Report\", minimal=True)"
   ]
  },
  {
   "cell_type": "code",
   "execution_count": 9,
   "metadata": {},
   "outputs": [],
   "source": [
    "##profile.to_notebook_iframe()"
   ]
  },
  {
   "cell_type": "code",
   "execution_count": 39,
   "metadata": {},
   "outputs": [
    {
     "data": {
      "text/html": [
       "<div>\n",
       "<style scoped>\n",
       "    .dataframe tbody tr th:only-of-type {\n",
       "        vertical-align: middle;\n",
       "    }\n",
       "\n",
       "    .dataframe tbody tr th {\n",
       "        vertical-align: top;\n",
       "    }\n",
       "\n",
       "    .dataframe thead th {\n",
       "        text-align: right;\n",
       "    }\n",
       "</style>\n",
       "<table border=\"1\" class=\"dataframe\">\n",
       "  <thead>\n",
       "    <tr style=\"text-align: right;\">\n",
       "      <th></th>\n",
       "      <th>GEOID</th>\n",
       "      <th>total-households</th>\n",
       "      <th>median-gross-rent</th>\n",
       "      <th>avg-eviction-rate</th>\n",
       "      <th>ratio-to-mean-eviction-rate</th>\n",
       "      <th>county</th>\n",
       "      <th>DP02_0001E</th>\n",
       "      <th>DP02_0001PE</th>\n",
       "      <th>DP02_0002E</th>\n",
       "      <th>DP02_0002PE</th>\n",
       "    </tr>\n",
       "  </thead>\n",
       "  <tbody>\n",
       "    <tr>\n",
       "      <th>0</th>\n",
       "      <td>12057010103</td>\n",
       "      <td>1454</td>\n",
       "      <td>831</td>\n",
       "      <td>2.023771</td>\n",
       "      <td>0.855968</td>\n",
       "      <td>Hillsborough County</td>\n",
       "      <td>1431</td>\n",
       "      <td>1431</td>\n",
       "      <td>1033</td>\n",
       "      <td>72.2</td>\n",
       "    </tr>\n",
       "    <tr>\n",
       "      <th>1</th>\n",
       "      <td>12057011006</td>\n",
       "      <td>1861</td>\n",
       "      <td>1349</td>\n",
       "      <td>2.508197</td>\n",
       "      <td>1.060859</td>\n",
       "      <td>Hillsborough County</td>\n",
       "      <td>1951</td>\n",
       "      <td>1951</td>\n",
       "      <td>1450</td>\n",
       "      <td>74.3</td>\n",
       "    </tr>\n",
       "    <tr>\n",
       "      <th>2</th>\n",
       "      <td>12057011108</td>\n",
       "      <td>681</td>\n",
       "      <td>497</td>\n",
       "      <td>3.902439</td>\n",
       "      <td>1.650563</td>\n",
       "      <td>Hillsborough County</td>\n",
       "      <td>718</td>\n",
       "      <td>718</td>\n",
       "      <td>387</td>\n",
       "      <td>53.9</td>\n",
       "    </tr>\n",
       "    <tr>\n",
       "      <th>3</th>\n",
       "      <td>12057011203</td>\n",
       "      <td>1403</td>\n",
       "      <td>967</td>\n",
       "      <td>1.524998</td>\n",
       "      <td>0.645008</td>\n",
       "      <td>Hillsborough County</td>\n",
       "      <td>1385</td>\n",
       "      <td>1385</td>\n",
       "      <td>1038</td>\n",
       "      <td>74.9</td>\n",
       "    </tr>\n",
       "    <tr>\n",
       "      <th>4</th>\n",
       "      <td>12057011206</td>\n",
       "      <td>1263</td>\n",
       "      <td>750</td>\n",
       "      <td>2.469276</td>\n",
       "      <td>1.044397</td>\n",
       "      <td>Hillsborough County</td>\n",
       "      <td>1274</td>\n",
       "      <td>1274</td>\n",
       "      <td>555</td>\n",
       "      <td>43.6</td>\n",
       "    </tr>\n",
       "  </tbody>\n",
       "</table>\n",
       "</div>"
      ],
      "text/plain": [
       "         GEOID  total-households  median-gross-rent  avg-eviction-rate  \\\n",
       "0  12057010103              1454                831           2.023771   \n",
       "1  12057011006              1861               1349           2.508197   \n",
       "2  12057011108               681                497           3.902439   \n",
       "3  12057011203              1403                967           1.524998   \n",
       "4  12057011206              1263                750           2.469276   \n",
       "\n",
       "   ratio-to-mean-eviction-rate               county  DP02_0001E  DP02_0001PE  \\\n",
       "0                     0.855968  Hillsborough County        1431         1431   \n",
       "1                     1.060859  Hillsborough County        1951         1951   \n",
       "2                     1.650563  Hillsborough County         718          718   \n",
       "3                     0.645008  Hillsborough County        1385         1385   \n",
       "4                     1.044397  Hillsborough County        1274         1274   \n",
       "\n",
       "   DP02_0002E  DP02_0002PE  \n",
       "0        1033         72.2  \n",
       "1        1450         74.3  \n",
       "2         387         53.9  \n",
       "3        1038         74.9  \n",
       "4         555         43.6  "
      ]
     },
     "execution_count": 39,
     "metadata": {},
     "output_type": "execute_result"
    }
   ],
   "source": [
    "df_hill_merge = pd.merge(df_hill_trans, df_dp_hill_trans, on=\"GEOID\")\n",
    "df_hill_merge.head()"
   ]
  },
  {
   "cell_type": "code",
   "execution_count": 40,
   "metadata": {},
   "outputs": [
    {
     "data": {
      "text/html": [
       "<div>\n",
       "<style scoped>\n",
       "    .dataframe tbody tr th:only-of-type {\n",
       "        vertical-align: middle;\n",
       "    }\n",
       "\n",
       "    .dataframe tbody tr th {\n",
       "        vertical-align: top;\n",
       "    }\n",
       "\n",
       "    .dataframe thead th {\n",
       "        text-align: right;\n",
       "    }\n",
       "</style>\n",
       "<table border=\"1\" class=\"dataframe\">\n",
       "  <thead>\n",
       "    <tr style=\"text-align: right;\">\n",
       "      <th></th>\n",
       "      <th>GEOID</th>\n",
       "      <th>total-households</th>\n",
       "      <th>median-gross-rent</th>\n",
       "      <th>avg-eviction-rate</th>\n",
       "      <th>ratio-to-mean-eviction-rate</th>\n",
       "      <th>county</th>\n",
       "      <th>DP02_0001E</th>\n",
       "      <th>DP02_0001PE</th>\n",
       "      <th>DP02_0002E</th>\n",
       "      <th>DP02_0002PE</th>\n",
       "    </tr>\n",
       "  </thead>\n",
       "  <tbody>\n",
       "    <tr>\n",
       "      <th>0</th>\n",
       "      <td>36085013204</td>\n",
       "      <td>1790</td>\n",
       "      <td>1411</td>\n",
       "      <td>0.710900</td>\n",
       "      <td>0.841753</td>\n",
       "      <td>Staten Island</td>\n",
       "      <td>1864</td>\n",
       "      <td>1864</td>\n",
       "      <td>1323</td>\n",
       "      <td>71.0</td>\n",
       "    </tr>\n",
       "    <tr>\n",
       "      <th>1</th>\n",
       "      <td>36085013800</td>\n",
       "      <td>2369</td>\n",
       "      <td>1185</td>\n",
       "      <td>0.453515</td>\n",
       "      <td>0.536992</td>\n",
       "      <td>Staten Island</td>\n",
       "      <td>2333</td>\n",
       "      <td>2333</td>\n",
       "      <td>1678</td>\n",
       "      <td>71.9</td>\n",
       "    </tr>\n",
       "    <tr>\n",
       "      <th>2</th>\n",
       "      <td>36085014700</td>\n",
       "      <td>1341</td>\n",
       "      <td>1220</td>\n",
       "      <td>0.829876</td>\n",
       "      <td>0.982628</td>\n",
       "      <td>Staten Island</td>\n",
       "      <td>1340</td>\n",
       "      <td>1340</td>\n",
       "      <td>887</td>\n",
       "      <td>66.2</td>\n",
       "    </tr>\n",
       "    <tr>\n",
       "      <th>3</th>\n",
       "      <td>36085019700</td>\n",
       "      <td>712</td>\n",
       "      <td>1384</td>\n",
       "      <td>1.010101</td>\n",
       "      <td>1.196027</td>\n",
       "      <td>Staten Island</td>\n",
       "      <td>698</td>\n",
       "      <td>698</td>\n",
       "      <td>476</td>\n",
       "      <td>68.2</td>\n",
       "    </tr>\n",
       "    <tr>\n",
       "      <th>4</th>\n",
       "      <td>36085020804</td>\n",
       "      <td>1988</td>\n",
       "      <td>1175</td>\n",
       "      <td>1.117318</td>\n",
       "      <td>1.322979</td>\n",
       "      <td>Staten Island</td>\n",
       "      <td>2010</td>\n",
       "      <td>2010</td>\n",
       "      <td>1678</td>\n",
       "      <td>83.5</td>\n",
       "    </tr>\n",
       "  </tbody>\n",
       "</table>\n",
       "</div>"
      ],
      "text/plain": [
       "         GEOID  total-households  median-gross-rent  avg-eviction-rate  \\\n",
       "0  36085013204              1790               1411           0.710900   \n",
       "1  36085013800              2369               1185           0.453515   \n",
       "2  36085014700              1341               1220           0.829876   \n",
       "3  36085019700               712               1384           1.010101   \n",
       "4  36085020804              1988               1175           1.117318   \n",
       "\n",
       "   ratio-to-mean-eviction-rate         county  DP02_0001E  DP02_0001PE  \\\n",
       "0                     0.841753  Staten Island        1864         1864   \n",
       "1                     0.536992  Staten Island        2333         2333   \n",
       "2                     0.982628  Staten Island        1340         1340   \n",
       "3                     1.196027  Staten Island         698          698   \n",
       "4                     1.322979  Staten Island        2010         2010   \n",
       "\n",
       "   DP02_0002E  DP02_0002PE  \n",
       "0        1323         71.0  \n",
       "1        1678         71.9  \n",
       "2         887         66.2  \n",
       "3         476         68.2  \n",
       "4        1678         83.5  "
      ]
     },
     "execution_count": 40,
     "metadata": {},
     "output_type": "execute_result"
    }
   ],
   "source": [
    "df_nyc_merge = pd.merge(df_nyc_trans, df_dp_nyc_trans, on=\"GEOID\")\n",
    "df_nyc_merge.head()"
   ]
  },
  {
   "cell_type": "code",
   "execution_count": 46,
   "metadata": {},
   "outputs": [
    {
     "data": {
      "application/vnd.jupyter.widget-view+json": {
       "model_id": "b8281e68d9c8430c9bac66a7d0e57910",
       "version_major": 2,
       "version_minor": 0
      },
      "text/plain": [
       "Summarize dataset:   0%|          | 0/18 [00:00<?, ?it/s]"
      ]
     },
     "metadata": {},
     "output_type": "display_data"
    },
    {
     "data": {
      "application/vnd.jupyter.widget-view+json": {
       "model_id": "e42f5bb7314c44a6a117231d6d7fc3d2",
       "version_major": 2,
       "version_minor": 0
      },
      "text/plain": [
       "Generate report structure:   0%|          | 0/1 [00:00<?, ?it/s]"
      ]
     },
     "metadata": {},
     "output_type": "display_data"
    },
    {
     "data": {
      "application/vnd.jupyter.widget-view+json": {
       "model_id": "5e98e43aca284e5bb5655f716f87544e",
       "version_major": 2,
       "version_minor": 0
      },
      "text/plain": [
       "Render HTML:   0%|          | 0/1 [00:00<?, ?it/s]"
      ]
     },
     "metadata": {},
     "output_type": "display_data"
    },
    {
     "data": {
      "application/vnd.jupyter.widget-view+json": {
       "model_id": "819389f1a6684f9381e3e6f1e8d8e4c7",
       "version_major": 2,
       "version_minor": 0
      },
      "text/plain": [
       "Export report to file:   0%|          | 0/1 [00:00<?, ?it/s]"
      ]
     },
     "metadata": {},
     "output_type": "display_data"
    }
   ],
   "source": [
    "profile_hill = ProfileReport(df_hill_merge, title=\"Hill Profiling Report\", minimal=True)\n",
    "profile_hill.to_file(\"hill.html\")"
   ]
  },
  {
   "cell_type": "code",
   "execution_count": 47,
   "metadata": {},
   "outputs": [
    {
     "data": {
      "application/vnd.jupyter.widget-view+json": {
       "model_id": "5865157bcadd48be97462da00718e372",
       "version_major": 2,
       "version_minor": 0
      },
      "text/plain": [
       "Summarize dataset:   0%|          | 0/18 [00:00<?, ?it/s]"
      ]
     },
     "metadata": {},
     "output_type": "display_data"
    },
    {
     "name": "stderr",
     "output_type": "stream",
     "text": [
      "C:\\Users\\abasa\\AppData\\Roaming\\Python\\Python38\\site-packages\\numpy\\core\\_methods.py:202: RuntimeWarning: invalid value encountered in subtract\n",
      "  x = asanyarray(arr - arrmean)\n"
     ]
    },
    {
     "data": {
      "application/vnd.jupyter.widget-view+json": {
       "model_id": "319661079aea45478cbbbcd85c3c3f1c",
       "version_major": 2,
       "version_minor": 0
      },
      "text/plain": [
       "Generate report structure:   0%|          | 0/1 [00:00<?, ?it/s]"
      ]
     },
     "metadata": {},
     "output_type": "display_data"
    },
    {
     "data": {
      "application/vnd.jupyter.widget-view+json": {
       "model_id": "c3e0a53adfca4864af68ff87d69287c4",
       "version_major": 2,
       "version_minor": 0
      },
      "text/plain": [
       "Render HTML:   0%|          | 0/1 [00:00<?, ?it/s]"
      ]
     },
     "metadata": {},
     "output_type": "display_data"
    },
    {
     "data": {
      "application/vnd.jupyter.widget-view+json": {
       "model_id": "38b518f7e849416cba0a0166454d0128",
       "version_major": 2,
       "version_minor": 0
      },
      "text/plain": [
       "Export report to file:   0%|          | 0/1 [00:00<?, ?it/s]"
      ]
     },
     "metadata": {},
     "output_type": "display_data"
    }
   ],
   "source": [
    "profile_nyc = ProfileReport(df_nyc_merge, title=\"NYC Profiling Report\", minimal=True)\n",
    "profile_nyc.to_file(\"nyc.html\")"
   ]
  },
  {
   "cell_type": "code",
   "execution_count": null,
   "metadata": {},
   "outputs": [],
   "source": []
  }
 ],
 "metadata": {
  "kernelspec": {
   "display_name": "Python 3",
   "language": "python",
   "name": "python3"
  },
  "language_info": {
   "codemirror_mode": {
    "name": "ipython",
    "version": 3
   },
   "file_extension": ".py",
   "mimetype": "text/x-python",
   "name": "python",
   "nbconvert_exporter": "python",
   "pygments_lexer": "ipython3",
   "version": "3.8.3"
  }
 },
 "nbformat": 4,
 "nbformat_minor": 4
}
