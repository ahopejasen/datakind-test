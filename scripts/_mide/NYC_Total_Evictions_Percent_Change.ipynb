{
 "cells": [
  {
   "cell_type": "code",
   "execution_count": 8,
   "metadata": {},
   "outputs": [],
   "source": [
    "import pandas as pd\n",
    "import numpy as np"
   ]
  },
  {
   "cell_type": "markdown",
   "metadata": {},
   "source": [
    "### Results for first question Row 3 in \"Housing Insecurity DataDive Volunteer Sign up\""
   ]
  },
  {
   "cell_type": "code",
   "execution_count": 10,
   "metadata": {},
   "outputs": [],
   "source": [
    "nyc_ts_processed = pd.read_csv('data/processed/nyc_processed_timeseries_2017_to_2019_20210225.csv')"
   ]
  },
  {
   "cell_type": "markdown",
   "metadata": {},
   "source": [
    "### (NYC) How many total evictions were there in 2017?, 2018?, 2019?"
   ]
  },
  {
   "cell_type": "code",
   "execution_count": 19,
   "metadata": {},
   "outputs": [],
   "source": [
    "def total_evictions(df, begin, end, year):\n",
    "    df_year = df[(df[\"month\"] > begin) & (df[\"month\"] < end)]\n",
    "    print(\"The year\", year, \"saw \", df_year[\"total-eviction-filings\"].sum(),\"evictions in NYC\")\n",
    "    return df_year[\"total-eviction-filings\"].sum()"
   ]
  },
  {
   "cell_type": "code",
   "execution_count": 20,
   "metadata": {},
   "outputs": [
    {
     "name": "stdout",
     "output_type": "stream",
     "text": [
      "The year 2017 saw  20789 evictions in NYC\n",
      "The year 2018 saw  19988 evictions in NYC\n",
      "The year 2019 saw  16975 evictions in NYC\n"
     ]
    }
   ],
   "source": [
    "no_2017 = total_evictions(nyc_ts_processed, \"2016-12\", \"2018-01\", 2017)\n",
    "no_2018 = total_evictions(nyc_ts_processed, \"2017-12\", \"2019-01\", 2018)\n",
    "no_2019 = total_evictions(nyc_ts_processed, \"2018-12\", \"2020-01\", 2019)"
   ]
  },
  {
   "cell_type": "markdown",
   "metadata": {},
   "source": [
    "### What was the percent change year over year?"
   ]
  },
  {
   "cell_type": "code",
   "execution_count": 27,
   "metadata": {},
   "outputs": [
    {
     "name": "stdout",
     "output_type": "stream",
     "text": [
      "Percent change from 2017 to 2018 was  -3.852999182259849\n",
      "Percent change from 2018 to 2019 was  -15.074044426655995\n"
     ]
    }
   ],
   "source": [
    "print(\"Percent change from 2017 to 2018 was \", 100*((no_2018-no_2017)/no_2017))\n",
    "print(\"Percent change from 2018 to 2019 was \", 100*((no_2019-no_2018)/no_2018))"
   ]
  },
  {
   "cell_type": "code",
   "execution_count": null,
   "metadata": {},
   "outputs": [],
   "source": []
  },
  {
   "cell_type": "code",
   "execution_count": null,
   "metadata": {},
   "outputs": [],
   "source": []
  },
  {
   "cell_type": "code",
   "execution_count": null,
   "metadata": {},
   "outputs": [],
   "source": []
  }
 ],
 "metadata": {
  "kernelspec": {
   "display_name": "Python 3",
   "language": "python",
   "name": "python3"
  },
  "language_info": {
   "codemirror_mode": {
    "name": "ipython",
    "version": 3
   },
   "file_extension": ".py",
   "mimetype": "text/x-python",
   "name": "python",
   "nbconvert_exporter": "python",
   "pygments_lexer": "ipython3",
   "version": "3.8.5"
  }
 },
 "nbformat": 4,
 "nbformat_minor": 4
}
